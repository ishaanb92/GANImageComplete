{
 "cells": [
  {
   "cell_type": "markdown",
   "metadata": {},
   "source": [
    "# Quality Metrics for Generative Models\n",
    "\n",
    "#### Author : Ishaan Bhat \n",
    "\n",
    "This document serves as a usage guide for the code developed to test various similarity metrics for images generated using the [Semantic In-paining technique](http://arxiv.org/abs/1607.07539). This method relies on a trained (on a certain dataset) Generative Adversarial Network, using which in-paininting for masked/incomplete can be performed.\n",
    "\n",
    "### Getting the code repository into the local system\n",
    "\n",
    "\n",
    "\n",
    "### Training the GAN\n",
    "\n",
    "The train_dcgan.py script is used to launch the GAN training. This script instances the DCGAN class (defined in model.py) and takes a \"--dataset\" argument which should be a pointer to the training dataset folder. Currently it is located at /home/ibhat/image_completion/dcgan-completion.tensorflow/data/celebA folder on the grill server (grill.win.tue.nl). The training runs for 25 epochs and takes around 10 hours to complete. \n",
    "\n",
    "### Creating a test dataset\n",
    "\n",
    "\n",
    "### Running the completion code\n",
    "\n",
    "\n",
    "### Generating metrics"
   ]
  },
  {
   "cell_type": "code",
   "execution_count": null,
   "metadata": {
    "collapsed": true
   },
   "outputs": [],
   "source": []
  }
 ],
 "metadata": {
  "kernelspec": {
   "display_name": "Python 3",
   "language": "python",
   "name": "python3"
  },
  "language_info": {
   "codemirror_mode": {
    "name": "ipython",
    "version": 3
   },
   "file_extension": ".py",
   "mimetype": "text/x-python",
   "name": "python",
   "nbconvert_exporter": "python",
   "pygments_lexer": "ipython3",
   "version": "3.4.3"
  }
 },
 "nbformat": 4,
 "nbformat_minor": 2
}
